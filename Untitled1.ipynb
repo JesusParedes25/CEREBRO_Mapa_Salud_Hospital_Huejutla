{
 "cells": [
  {
   "cell_type": "code",
   "execution_count": null,
   "id": "d674ef3d-fd20-4573-8242-42272e6ea4ed",
   "metadata": {},
   "outputs": [
    {
     "name": "stderr",
     "output_type": "stream",
     "text": [
      "C:\\Users\\jesus\\AppData\\Local\\Temp\\ipykernel_20764\\3039722714.py:2: UserWarning: \n",
      "The dash_core_components package is deprecated. Please replace\n",
      "`import dash_core_components as dcc` with `from dash import dcc`\n",
      "  import dash_core_components as dcc\n",
      "C:\\Users\\jesus\\AppData\\Local\\Temp\\ipykernel_20764\\3039722714.py:3: UserWarning: \n",
      "The dash_html_components package is deprecated. Please replace\n",
      "`import dash_html_components as html` with `from dash import html`\n",
      "  import dash_html_components as html\n"
     ]
    },
    {
     "name": "stdout",
     "output_type": "stream",
     "text": [
      "Dash is running on http://127.0.0.1:8050/\n",
      "\n",
      " * Serving Flask app \"__main__\" (lazy loading)\n",
      " * Environment: production\n",
      "\u001b[31m   WARNING: This is a development server. Do not use it in a production deployment.\u001b[0m\n",
      "\u001b[2m   Use a production WSGI server instead.\u001b[0m\n",
      " * Debug mode: off\n"
     ]
    },
    {
     "name": "stderr",
     "output_type": "stream",
     "text": [
      " * Running on http://127.0.0.1:8050/ (Press CTRL+C to quit)\n",
      "127.0.0.1 - - [08/Mar/2023 16:45:30] \"GET / HTTP/1.1\" 200 -\n",
      "127.0.0.1 - - [08/Mar/2023 16:45:30] \"GET /_dash-dependencies HTTP/1.1\" 200 -\n",
      "127.0.0.1 - - [08/Mar/2023 16:45:30] \"GET /_dash-layout HTTP/1.1\" 200 -\n",
      "127.0.0.1 - - [08/Mar/2023 16:45:30] \"GET /_favicon.ico?v=2.8.1 HTTP/1.1\" 200 -\n",
      "127.0.0.1 - - [08/Mar/2023 16:45:30] \"GET /_dash-component-suites/dash/dcc/async-graph.js HTTP/1.1\" 304 -\n",
      "127.0.0.1 - - [08/Mar/2023 16:45:30] \"GET /_dash-component-suites/dash/dcc/async-plotlyjs.js HTTP/1.1\" 304 -\n",
      "127.0.0.1 - - [08/Mar/2023 16:45:30] \"GET /nombre_archivo.geojson HTTP/1.1\" 200 -\n"
     ]
    }
   ],
   "source": [
    "import dash\n",
    "import dash_core_components as dcc\n",
    "import dash_html_components as html\n",
    "import pandas as pd\n",
    "import plotly.graph_objs as go\n",
    "\n",
    "df = pd.read_csv('pob_sin_derecho.csv')\n",
    "\n",
    "fig = go.Figure(data=go.Choropleth(\n",
    "    locations=df['CVEGEO'], # Columna con los códigos de las ubicaciones\n",
    "    z=df['POR_PSD'], # Columna con los valores a mostrar\n",
    "    locationmode='geojson-id', # Modo de ubicación\n",
    "    geojson='nombre_archivo.geojson', # Archivo geojson con los contornos de las ubicaciones\n",
    "    colorscale='YlGnBu', # Escala de colores\n",
    "    zmin=0, # Valor mínimo del rango de colores\n",
    "    zmax=100, # Valor máximo del rango de colores\n",
    "    marker_line_width=0.5, # Grosor de las líneas de los contornos\n",
    "    colorbar_title='Porcentaje de PSD', # Título de la barra de colores\n",
    "))\n",
    "\n",
    "fig.update_geos(fitbounds=\"locations\") # Ajusta el mapa para que muestre todas las ubicaciones\n",
    "\n",
    "fig.update_layout(\n",
    "    title_text='Porcentaje de población con seguridad social en México', # Título del gráfico\n",
    "    title_x=0.5, # Posición del título horizontalmente\n",
    "    geo=dict(\n",
    "        showframe=False, # Oculta el marco del mapa\n",
    "        showcoastlines=False, # Oculta las líneas costeras\n",
    "        projection_type='equirectangular' # Tipo de proyección del mapa\n",
    "    )\n",
    ")\n",
    "app = dash.Dash(__name__)\n",
    "\n",
    "app.layout = html.Div([\n",
    "    html.H1('Dashboard de seguridad social'),\n",
    "    dcc.Graph(id='map', figure=fig)\n",
    "])\n",
    "\n",
    "if __name__ == '__main__':\n",
    "    app.run_server(debug=False)\n"
   ]
  },
  {
   "cell_type": "code",
   "execution_count": null,
   "id": "78b1a404-6db8-4f73-9b71-cadec419ed65",
   "metadata": {},
   "outputs": [],
   "source": []
  }
 ],
 "metadata": {
  "kernelspec": {
   "display_name": "Python 3 (ipykernel)",
   "language": "python",
   "name": "python3"
  },
  "language_info": {
   "codemirror_mode": {
    "name": "ipython",
    "version": 3
   },
   "file_extension": ".py",
   "mimetype": "text/x-python",
   "name": "python",
   "nbconvert_exporter": "python",
   "pygments_lexer": "ipython3",
   "version": "3.9.13"
  }
 },
 "nbformat": 4,
 "nbformat_minor": 5
}
