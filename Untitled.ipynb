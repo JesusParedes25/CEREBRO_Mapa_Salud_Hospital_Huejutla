{
 "cells": [
  {
   "cell_type": "code",
   "execution_count": null,
   "id": "5b86b024-eaa5-4c1b-ac17-3641539ab7f8",
   "metadata": {},
   "outputs": [],
   "source": [
    "from dash import Dash, dcc, html, Input, Output\n",
    "import plotly.express as px\n",
    "import pandas as pd \n",
    "df1 = pd.read_csv(\"pob_sin_derecho.csv\")\n",
    "app = Dash(__name__)\n",
    "\n",
    "\n",
    "app.layout = html.Div([\n",
    "    html.H4('Analysis of the restaurant sales'),\n",
    "    dcc.Graph(id=\"graph\"),\n",
    "    html.P(\"Names:\"),\n",
    "    dcc.Dropdown(id='names',\n",
    "        options=['CVEGEO'],\n",
    "        value='Municipio', clearable=False\n",
    "    ),\n",
    "    html.P(\"Values:\"),\n",
    "    dcc.Dropdown(id='values',\n",
    "        options=['POB_TOT', 'PSD', 'POR_PSD'],\n",
    "        value='total_bill', clearable=False\n",
    "    ),\n",
    "])\n",
    "\n",
    "\n",
    "@app.callback(\n",
    "    Output(\"graph\", \"figure\"), \n",
    "    Input(\"names\", \"value\"), \n",
    "    Input(\"values\", \"value\"))\n",
    "def generate_chart(names, values):\n",
    "    df = df1 # replace with your own data source\n",
    "    fig = px.pie(df, values=values, names=names, hole=.3)\n",
    "    return fig\n",
    "\n",
    "\n",
    "app.show()"
   ]
  },
  {
   "cell_type": "code",
   "execution_count": null,
   "id": "96205cfb-56b9-4518-b5f9-6fcf3437fd6b",
   "metadata": {},
   "outputs": [],
   "source": [
    "app.write_html(\"pastel_prueba.html\")"
   ]
  },
  {
   "cell_type": "code",
   "execution_count": null,
   "id": "5e543dd5-4c92-47de-b959-a2a86223af81",
   "metadata": {},
   "outputs": [],
   "source": []
  }
 ],
 "metadata": {
  "kernelspec": {
   "display_name": "Python 3 (ipykernel)",
   "language": "python",
   "name": "python3"
  },
  "language_info": {
   "codemirror_mode": {
    "name": "ipython",
    "version": 3
   },
   "file_extension": ".py",
   "mimetype": "text/x-python",
   "name": "python",
   "nbconvert_exporter": "python",
   "pygments_lexer": "ipython3",
   "version": "3.9.13"
  }
 },
 "nbformat": 4,
 "nbformat_minor": 5
}
